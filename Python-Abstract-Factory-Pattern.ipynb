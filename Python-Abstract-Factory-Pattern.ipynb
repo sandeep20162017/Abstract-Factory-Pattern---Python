{
 "cells": [
  {
   "cell_type": "markdown",
   "metadata": {},
   "source": [
    "# Abstract Factory Pattern - Python - Sandeep Kanao"
   ]
  },
  {
   "cell_type": "markdown",
   "metadata": {},
   "source": [
    "Abstract Factory Pattern - Python - Sandeep Kanao\n",
    "\n",
    "In this example, Document objects (Word, PDF, HTML etc) interact with Parse objects (WordParser1, WordParser2, PDFParse, HTML parser etc.), but there are different types of\n",
    "Documents and Parsing depending on document types and parsing technics. \n",
    "\n",
    "One document type can have more than one document parser.\n",
    "\n",
    "Each of the factory methods creates a different kind of object. \n",
    "\n",
    "The idea is that at the point of \n",
    "creation of the factory object, you decide how all the objects created by that factory will be used. \n"
   ]
  },
  {
   "cell_type": "code",
   "execution_count": 25,
   "metadata": {},
   "outputs": [
    {
     "name": "stdout",
     "output_type": "stream",
     "text": [
      "WordParse\n",
      "WordType document parsed by None\n",
      "PDFParse\n",
      "PDFType ducument parsed by None\n"
     ]
    }
   ],
   "source": [
    "# An example of the Abstract Factory pattern - Python - Sandeep Kanao\n",
    "\n",
    "class Parse:\n",
    "    def parseDoc(self): pass\n",
    "\n",
    "class Document:\n",
    "    def parseWith(self, parse): pass\n",
    "\n",
    "class WordType(Document):\n",
    "    def parseWith(self, parse):\n",
    "        print(\"WordType document parsed by\",  parse.parseDoc())\n",
    "\n",
    "class PDFType(Document):\n",
    "    def parseWith(self, parse):\n",
    "        print(\"PDFType ducument parsed by\",    parse.parseDoc())\n",
    "\n",
    "class WordParse(Parse):\n",
    "    def parseDoc(self):\n",
    "        print(\"WordParse\")\n",
    "\n",
    "class PDFParse(Parse):\n",
    "    def parseDoc(self):\n",
    "        print(\"PDFParse\")\n",
    "\n",
    "# The Abstract Factory:\n",
    "class DocumentElementFactory:\n",
    "    def makeDocument(self): pass\n",
    "    def makeParse(self): pass\n",
    "\n",
    "# Concrete factories:\n",
    "class ProcessWordDocument(DocumentElementFactory):\n",
    "    def makeDocument(self): return WordType()\n",
    "    def makeParse(self): return WordParse()\n",
    "\n",
    "class ProcessPDFDocument(DocumentElementFactory):\n",
    "    def makeDocument(self): return PDFType()\n",
    "    def makeParse(self): return PDFParse()\n",
    "\n",
    "class DocumentEnvironment:\n",
    "    def __init__(self, factory):\n",
    "        self.factory = factory\n",
    "        self.p = factory.makeDocument()\n",
    "        self.ob = factory.makeParse()\n",
    "    def process(self):\n",
    "        self.p.parseWith(self.ob)\n",
    "        \n",
    "# process documents\n",
    "doctype1 = DocumentEnvironment(ProcessWordDocument())\n",
    "doctype2 = DocumentEnvironment(ProcessPDFDocument())\n",
    "doctype1.process()\n",
    "doctype2.process()"
   ]
  }
 ],
 "metadata": {
  "kernelspec": {
   "display_name": "Python 3",
   "language": "python",
   "name": "python3"
  },
  "language_info": {
   "codemirror_mode": {
    "name": "ipython",
    "version": 3
   },
   "file_extension": ".py",
   "mimetype": "text/x-python",
   "name": "python",
   "nbconvert_exporter": "python",
   "pygments_lexer": "ipython3",
   "version": "3.6.2"
  }
 },
 "nbformat": 4,
 "nbformat_minor": 2
}
